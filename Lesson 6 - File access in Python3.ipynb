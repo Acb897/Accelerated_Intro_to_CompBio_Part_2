{
 "cells": [
  {
   "cell_type": "markdown",
   "metadata": {},
   "source": [
    "# Reading and Writing files\n",
    "\n",
    "So far, we have typed all of our \"data\" into the code of our software (e.g. the names of the students, and their ages.\n",
    "\n",
    "Most of the time, this kind of data is stored in files.  We need to read (and write) files so that we can create and use permanent copies of these data (and exchange these data with other people or software)\n",
    "\n",
    "The function we will use to open a file is called (surprise!) \"open\"\n",
    "\n",
    "open takes two arguments\":\n",
    "1. the path to the file\n",
    "2. \"how\" to open the file (for read?  for write?  for \"append\"? for read and write?)\n",
    "\n",
    "it looks like this:\n",
    "\n",
    "    myfile = open(\"/path/to/file.csv\", \"r\")  # opens file.csv for \"read\"\n",
    "    \n",
    "I have already created a file called students.csv that we can open now:"
   ]
  },
  {
   "cell_type": "code",
   "execution_count": 1,
   "metadata": {},
   "outputs": [
    {
     "name": "stdout",
     "output_type": "stream",
     "text": [
      "<_io.TextIOWrapper name='students.csv' mode='r' encoding='UTF-8'>\n"
     ]
    }
   ],
   "source": [
    "studentfile = open(\"students.csv\", \"r\")\n",
    "print(studentfile)"
   ]
  },
  {
   "cell_type": "markdown",
   "metadata": {},
   "source": [
    "\n",
    "Does the output of that print statement surprise you?  What it tells you is that 'studentfile' is a Python \"object\" (again, we will discuss objects in more detail later, but you will start to see how they work now...)\n",
    "\n",
    "studentfile is an object of type \"TextIOWrapper\" (from the \"io\" Python library, which is automatically installed in all Python distributions).  It knows what its filename is, it knows that it is open for \"read\", and it also has guessed the \"encoding\" of the file (UTF-8 is a kind of text encoding that allows extended text characters like the German umlaut's, and greek alpha, beta, etc.   This is a good default for us!)\n",
    "\n",
    "# Reading information from a file\n",
    "\n",
    "surprise!  The most basic method used to read information is.... 'read'!  This reads **the entire file**\n",
    "\n",
    "    print(studentfile.read())\n",
    "    \n"
   ]
  },
  {
   "cell_type": "code",
   "execution_count": 2,
   "metadata": {},
   "outputs": [
    {
     "name": "stdout",
     "output_type": "stream",
     "text": [
      "Mark,50\n",
      "Alejandro,25\n",
      "Julia,26\n",
      "Denise,23\n",
      "Josef,21\n",
      "\n"
     ]
    }
   ],
   "source": [
    "print(studentfile.read())"
   ]
  },
  {
   "cell_type": "markdown",
   "metadata": {},
   "source": [
    "\n",
    "Now we need to talk about a feature of file input/output, called a \"pointer\".  The pointer is the position where the code \"is\" in the file - is it at the beginning?  is it at the end\"?  Is it at line 5?\n",
    "\n",
    "Where is the pointer now?  Let's try the same command again!"
   ]
  },
  {
   "cell_type": "code",
   "execution_count": 4,
   "metadata": {},
   "outputs": [
    {
     "name": "stdout",
     "output_type": "stream",
     "text": [
      "\n"
     ]
    }
   ],
   "source": [
    "\n",
    "print(studentfile.read())"
   ]
  },
  {
   "cell_type": "markdown",
   "metadata": {},
   "source": [
    "\n",
    "Nada de nada!  That's because the pointer is at the end of the file - when we say file.read it tries to read starting from the end of the file...and of course, there is nothing there.  \n",
    "\n",
    "To reset back to the beginning, we will use the \"seek\" function, and set it to position '0':\n",
    "\n"
   ]
  },
  {
   "cell_type": "code",
   "execution_count": 5,
   "metadata": {},
   "outputs": [
    {
     "name": "stdout",
     "output_type": "stream",
     "text": [
      "Mark,50\n",
      "Alejandro,25\n",
      "Julia,26\n",
      "Denise,23\n",
      "Josef,21\n",
      "\n"
     ]
    }
   ],
   "source": [
    "studentfile.seek(0)\n",
    "print(studentfile.read())\n",
    "studentfile.seek(0)   # set it back to the beginning again for the next lesson...\n"
   ]
  },
  {
   "cell_type": "markdown",
   "metadata": {},
   "source": [
    "\n",
    "## More refined file access - line-by-line\n",
    "\n",
    "Most of the time, you do not want to read the enire file (tell me why this can be very very bad!.... please)\n",
    "\n",
    "MOST of the time, a file will have one \"record\" per line.  e.g. our CSV file has the \"name,age\" for one student per line.  We want to read those lines."
   ]
  }
 ],
 "metadata": {
  "kernelspec": {
   "display_name": "Python 3",
   "language": "python",
   "name": "python3"
  },
  "language_info": {
   "codemirror_mode": {
    "name": "ipython",
    "version": 3
   },
   "file_extension": ".py",
   "mimetype": "text/x-python",
   "name": "python",
   "nbconvert_exporter": "python",
   "pygments_lexer": "ipython3",
   "version": "3.6.5"
  }
 },
 "nbformat": 4,
 "nbformat_minor": 2
}
