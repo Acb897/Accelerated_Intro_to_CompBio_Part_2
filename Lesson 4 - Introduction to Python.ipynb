{
 "cells": [
  {
   "cell_type": "markdown",
   "metadata": {},
   "source": [
    "# Programming\n",
    "\n",
    "Programs are sets of instructions intended to achieve a particular task.\n",
    "\n",
    "Programs generally try to \"abstract\" a problem so that the same program can be used to achieve many similar, but non-identical tasks.  They do this by using *variables*.  For example:\n",
    "\n",
    "     Say Hello to Mark\n",
    "     \n",
    "This small \"program\" is a concrete solution to the specific problem of saying Hello to Mark.  It solves that problem perfectly!  But I have to write many many programs if I want to say Hello to each of you in this class...\n",
    "\n",
    "     Say Hello to Pedro\n",
    "     Say Hello to Julio\n",
    "     Say Hello to Maria\n",
    "\n",
    "This is not efficient.  So we make an \"abstrat\" version of the same program:\n",
    "\n",
    "     Say Hello to {X}\n",
    "     \n",
    "Now this single program can say Hello to whomever {X} is.  Or better:\n",
    "\n",
    "     Say {S} to {X}\n",
    "\n",
    "That is a program can say anything to anybody!  \n",
    "\n",
    "...and that's all you really need to understand about programming, at this level.  It will take some practice before you become good at abstraction - it's a different way of thinking!\n",
    "\n",
    "\n",
    "\n"
   ]
  },
  {
   "cell_type": "markdown",
   "metadata": {},
   "source": [
    "# The Python Programming Language\n",
    "\n",
    "**Python** is an *interpreted*, *general purpose*, *object-oriented* language that can be run on any operating system. \n",
    "\n",
    "It is pre-installed on most Linux distributions (including this VM)\n",
    "\n",
    "In the next 60 seconds you will create your first two Python programs!\n",
    "\n",
    "1. Open a terminal window.\n",
    "2. Type \"python\"  \n",
    "3. At the <code>>>></code> prompt type\n",
    "<code>\n",
    "           print \"this is my first Python program\"\n",
    "</code>\n",
    "\n",
    "Done!\n",
    "\n",
    "Now for something a little bit more interesting:\n",
    "\n",
    "1. At the <code>>>></code> prompt type\n",
    "<code>\n",
    "           i_am_smart=True\n",
    "           if i_am_smart:\n",
    "               print(\"I am going to do well in this course!\")\n",
    "</code>\n",
    "    \n",
    "    \n",
    "(now press *ENTER* twice)\n",
    "    \n",
    "### Try changing the value of \"i_am_smart\" to 'False' - what happens?\n",
    "\n",
    "\n",
    "Now that you have written two simple Python programs, we will talk more deeply about what programming is, and how to write more complex apps.\n",
    "\n",
    "\n",
    "### TO EXIT FROM THE PYTHON TERMINAL\n",
    "\n",
    "type <code>exit()</code>\n",
    "\n",
    "\n",
    "\n"
   ]
  },
  {
   "cell_type": "markdown",
   "metadata": {},
   "source": [
    "# Data Types and Structures\n",
    "\n",
    "Programming requires you to think very carefully about the KIND and STRUCTURE of data.  For example, the digit 9 and the character \"9\" are *not* the same thing (though in some very flexible languages like Perl, it interprets them in whatever way is most appropriate).  For example, hypothetically:\n",
    "\n",
    "     9 + 9 = 18\n",
    "     \"9\" + \"9\" = \"99\"\n",
    "\n",
    "Most languages (like SQL!) support a wide range of data types - integers, floating-point numbers, \"strings\", date/time, exponentials, 'booleans' - and you should select the correct one for the data you are trying to represent.\n",
    "\n",
    "Data *structures* are slightly different from data *types*.  For example:\n",
    "\n",
    "* There is data that is \"scalar\" - it has a single value (like {X} in the example above).  \n",
    "* There are also lists (1,3,5,7,9) \n",
    "* and 'Associative lists' (Chapter1 : Introduction, Chapter2 : Installing,  Chapter3 : Running)\n",
    "\n",
    "There are more complex data structures, and you will learn them later in this course.  For the moment, we will only look at simple examples that combine these simple data types, with simple data structues.\n"
   ]
  },
  {
   "cell_type": "markdown",
   "metadata": {},
   "source": [
    "# Code Documentation\n",
    "\n",
    "_**I promise you this:  when you write a Python program today, you will not remember how it works next year!  And nobody who wants to use it after you will understand what it does, or how to use it, so they will have to write another program themselves.**_\n",
    "\n",
    "This is a waste of everyone's time, and a waste of your supervisor's money!!  \n",
    "\n",
    "For this reason, the first thing I am going to tell you about is **documentation**\n",
    "\n",
    "Simple documentation in Python is achieved with <code>'# comments'</code>.  the <code>#</code> symbol tells Python that the rest of the line is NOT a part of the program, but is rather a \"chat\" with whoever is reading the code, to help them understand what the code does.  <code>#</code> can appear by itself, or after other Python commands.\n",
    "\n",
    "For example\n",
    "\n",
    "<code>\n",
    "    \n",
    "    # the next few lines set-up the initial connection to the database\n",
    "    # starting from the first record of this year\n",
    "    \n",
    "    a=14435  # set a to the first database record of the current year\n",
    "    if (db.retrieve(a)):   # check that the record exists\n",
    "        print(\"record exists\")  # inform the user that the record exists\n",
    "</code>    \n",
    "\n",
    "\n",
    "The comments allow us to \"read\" what the intent of each line is, so that we don't have to *interpret* the code.\n",
    "\n",
    "I want you to use comments, even for simple programs, because it is a **very important good habit (buen hábito).**"
   ]
  },
  {
   "cell_type": "markdown",
   "metadata": {},
   "source": [
    "<pre>\n",
    "\n",
    "</pre>\n",
    "# Reserved Words\n",
    "\n",
    "There are words in Python that are \"reserved\" because they have a special meaning in the language.  This means that you cannot use them for variable names, or the names of functions inside of your app.   These are:\n",
    "\n",
    " | Reserved Words |  |  |  |  |  |\n",
    " | ---    | --- | --- | --- | --- | ---  |\n",
    " | False |\tclass |\tfinally  |\tis |\treturn\n",
    " | None  |\tcontinue |\tfor |\tlambda |\ttry\n",
    " | True |\tdef \t|from |\tnonlocal |\twhile\n",
    " | and |\tdel |\tglobal |\tnot |\twith\n",
    " | as | \telif |\tif |\tor |\tyield\n",
    " | assert |\telse |\timport | \tpass\n",
    " | break |\texcept |\tin |\traise\n",
    " \n",
    " \n",
    " Noe that the reserved words \"True\", \"False\" and \"None\" are capitalized.  All the rest are lower-case.\n",
    " \n",
    " "
   ]
  },
  {
   "cell_type": "markdown",
   "metadata": {},
   "source": [
    "<pre>\n",
    "\n",
    "\n",
    "</pre>\n",
    "# Data Types\n",
    "\n",
    "Data Types means the \"nature\" of the data that Ruby can represent.  Generally speaking, it can represent all of the \"core\" data types such as Numbers and words/letters/strings, and there are some other datatypes that are useful when coding.\n",
    "\n",
    "## Numbers\n",
    "\n",
    "Numbers are represented as follows:\n",
    "<code>\n",
    "123\n",
    "1234\n",
    "1_234\n",
    "1_234.56\n",
    "1.234e-56\n",
    "**0x**ffff  # hexadecimal\n",
    "**0b**010101 # binary\n",
    "**0o**377 # octal  (zero + 'oh')\n",
    "</code>"
   ]
  },
  {
   "cell_type": "code",
   "execution_count": 4,
   "metadata": {},
   "outputs": [
    {
     "name": "stdout",
     "output_type": "stream",
     "text": [
      "123\n",
      "1234\n",
      "1234\n",
      "1234.56\n",
      "1.234e-56\n",
      "65535\n",
      "21\n",
      "9\n"
     ]
    }
   ],
   "source": [
    "print(123)\n",
    "print(1234)\n",
    "print(1_234)\n",
    "print(1_234.56)\n",
    "print(1.234e-56)\n",
    "print(0xffff)     # hexadecimal\n",
    "print(0b010101)   # binary\n",
    "print(0o11)       # octal  (zero + 'oh')"
   ]
  },
  {
   "cell_type": "markdown",
   "metadata": {},
   "source": [
    "## Strings\n",
    "In most cases, Strings are enclosed in single (') or double (\") quotes.\n",
    "\n",
    "For example:\n",
    "\n",
    "print(\"hello Python programmer!\")\n",
    "\n"
   ]
  },
  {
   "cell_type": "code",
   "execution_count": 8,
   "metadata": {},
   "outputs": [
    {
     "name": "stdout",
     "output_type": "stream",
     "text": [
      "hello Python programmer!\n",
      "hello #1 Python programmer!\n",
      "123\n"
     ]
    }
   ],
   "source": [
    "print(\"hello Python programmer!\")\n",
    "print(\"hello #1 Python programmer!\")   # digits can be part of a string\n",
    "print(\"123\")   # digits can be the entire string\n"
   ]
  },
  {
   "cell_type": "markdown",
   "metadata": {},
   "source": [
    "<pre>\n",
    "\n",
    "</pre>\n",
    "There are some special characters in Strings.  A few common examples are:\n",
    "\n",
    "    \\n = 'newline'\n",
    "    \\r = 'return' (important for MS Windows!)\n",
    "    \\t = 'tab'\n",
    "\n",
    "So for example:\n",
    "\n",
    "    "
   ]
  },
  {
   "cell_type": "code",
   "execution_count": 11,
   "metadata": {},
   "outputs": [
    {
     "name": "stdout",
     "output_type": "stream",
     "text": [
      "this is my \n",
      "\t\t first \t Python \t app\n"
     ]
    }
   ],
   "source": [
    "print(\"this is my \\n\\t\\t first \\t Python \\t app\")"
   ]
  },
  {
   "cell_type": "markdown",
   "metadata": {},
   "source": [
    "Or you can create multi-line strings using triple-quotes:\n"
   ]
  },
  {
   "cell_type": "code",
   "execution_count": 27,
   "metadata": {},
   "outputs": [
    {
     "name": "stdout",
     "output_type": "stream",
     "text": [
      "This\n",
      "is\n",
      "a multi-\n",
      "line \n",
      "string\n"
     ]
    }
   ],
   "source": [
    "print(\"\"\"This\n",
    "is\n",
    "a multi-\n",
    "line \n",
    "string\"\"\")"
   ]
  },
  {
   "cell_type": "code",
   "execution_count": 23,
   "metadata": {},
   "outputs": [
    {
     "name": "stdout",
     "output_type": "stream",
     "text": [
      "this is  a way to add strings together\n",
      " say this twice say this twice\n",
      "\n",
      "y\n",
      "y wh\n"
     ]
    }
   ],
   "source": [
    "print(\"this is \"  +  \" a way to add strings together\")\n",
    "print(\" say this twice\" * 2) # '*' is the multiplication operator\n",
    "print(\"\")\n",
    "# you can also take substrings of strings\n",
    "print(\"say what?\"[2]) # the number in [] is the \"index\" position, starting from 0 (zero)\n",
    "print(\"say what?\"[2:6]) # the numbers in [] are the start index, \":\" UP TO, NOT INCLUDING, the second index\n"
   ]
  },
  {
   "cell_type": "markdown",
   "metadata": {},
   "source": [
    "# use what you know\n",
    "\n",
    "* create a Python print statement that starts with \"say what?\" and prints \"say something!\" using substring and \"+\" operators\n",
    "\n",
    "<p style=\"visibility:hidden\">\n",
    "    print(\"say what?\"[0:3] + \" something!\")\n",
    "</p>"
   ]
  },
  {
   "cell_type": "code",
   "execution_count": null,
   "metadata": {},
   "outputs": [],
   "source": []
  },
  {
   "cell_type": "markdown",
   "metadata": {},
   "source": [
    "# Transforming strings to digits and digits to strings\n",
    "\n",
    "NOTE: \"100\" and 100 are NOT the same in Python (unlike in Perl!).  \"100\" is a string, and 100 is an integer.\n",
    "\n",
    "So this does not work:"
   ]
  },
  {
   "cell_type": "code",
   "execution_count": 35,
   "metadata": {},
   "outputs": [
    {
     "ename": "TypeError",
     "evalue": "unsupported operand type(s) for +: 'int' and 'str'",
     "output_type": "error",
     "traceback": [
      "\u001b[0;31m---------------------------------------------------------------------------\u001b[0m",
      "\u001b[0;31mTypeError\u001b[0m                                 Traceback (most recent call last)",
      "\u001b[0;32m<ipython-input-35-b3ac430e94a8>\u001b[0m in \u001b[0;36m<module>\u001b[0;34m()\u001b[0m\n\u001b[0;32m----> 1\u001b[0;31m \u001b[0mprint\u001b[0m\u001b[0;34m(\u001b[0m\u001b[0;36m1\u001b[0m \u001b[0;34m+\u001b[0m \u001b[0;34m\" more time!\"\u001b[0m\u001b[0;34m)\u001b[0m\u001b[0;34m\u001b[0m\u001b[0m\n\u001b[0m",
      "\u001b[0;31mTypeError\u001b[0m: unsupported operand type(s) for +: 'int' and 'str'"
     ]
    }
   ],
   "source": [
    "print(1 + \" more time!\")"
   ]
  },
  {
   "cell_type": "markdown",
   "metadata": {},
   "source": [
    "Therefore, you might need to force them to represent themselves as numbers or as strings.\n",
    "\n",
    "In Python, there are methods you can call on the various kinds of data-type to achieve this.  \n",
    "\n",
    "    int() = \"to integer\"\n",
    "    float() = \"to float\"\n",
    "    str() = \"to string\"\n",
    "\n",
    "For example:"
   ]
  },
  {
   "cell_type": "code",
   "execution_count": 41,
   "metadata": {},
   "outputs": [
    {
     "name": "stdout",
     "output_type": "stream",
     "text": [
      "1 more time\n",
      "4.0\n",
      "4.0\n",
      "4\n"
     ]
    }
   ],
   "source": [
    "print(str(1) + \" more time\")  # from integer to string\n",
    "print(float(\"1\") + 3)  # from string to float\n",
    "print(float(1) + 3)  # from integer to float\n",
    "print(int(\"1\") + 3)  # from string to float\n"
   ]
  },
  {
   "cell_type": "markdown",
   "metadata": {},
   "source": [
    "## Try yourself\n",
    "\n",
    "<p style=\"color: red;\">TODO</p>"
   ]
  },
  {
   "cell_type": "markdown",
   "metadata": {},
   "source": [
    "## Variables and Constants\n",
    "\n",
    "Other than the reserved words, you can use any set of characters as your variables.  In Python, variables are usually written in lower\\_case, using a \\_ to separate words.  Other languages, like Java, use \"CamelCase\".  Please don't do this - it will annoy other Python programmers!  :-)\n",
    "\n",
    "The rules are:\n",
    "\n",
    "* Variables may start with a '_' or a letter\n",
    "* after the start, it may be letters or digits or underscores \n",
    "* variables are case-sensitive (A_B is not the same as a_b)\n",
    "\n",
    "\n",
    "Constants (variables that SHOULD not change their value are indicated in CAPITAL_LETTERS... however, unlike some other programming languages, Python does not enforce this rule!  (keep out of my yard :-) )\n",
    "\n",
    "**SCOPE**\n",
    "\n",
    "Scope is an important concept.  A variable always exists in a particular \"scope\" - meaning, \"within a particular context of that program\".  Some variables will be \"global\" in their scope, others will be \"local\" to a particular function.\n",
    "\n",
    "We have not yet talked about 'functions', but just think of a 'function' as a sub-program inside of your program, that can be re-used many times by different parts of your software.\n",
    "\n",
    "Here is an example of scope:\n"
   ]
  },
  {
   "cell_type": "code",
   "execution_count": 63,
   "metadata": {},
   "outputs": [
    {
     "name": "stdout",
     "output_type": "stream",
     "text": [
      "a is 1\n",
      "b is 2\n",
      "the sum is 3\n",
      "I can also see 1 and 2 inside of this function!\n"
     ]
    },
    {
     "ename": "NameError",
     "evalue": "name 'z' is not defined",
     "output_type": "error",
     "traceback": [
      "\u001b[0;31m---------------------------------------------------------------------------\u001b[0m",
      "\u001b[0;31mNameError\u001b[0m                                 Traceback (most recent call last)",
      "\u001b[0;32m<ipython-input-63-6781b4100723>\u001b[0m in \u001b[0;36m<module>\u001b[0;34m()\u001b[0m\n\u001b[1;32m     13\u001b[0m \u001b[0madd_two_numbers\u001b[0m\u001b[0;34m(\u001b[0m\u001b[0ma\u001b[0m\u001b[0;34m,\u001b[0m\u001b[0mb\u001b[0m\u001b[0;34m)\u001b[0m\u001b[0;34m\u001b[0m\u001b[0m\n\u001b[1;32m     14\u001b[0m \u001b[0;34m\u001b[0m\u001b[0m\n\u001b[0;32m---> 15\u001b[0;31m \u001b[0mprint\u001b[0m\u001b[0;34m(\u001b[0m\u001b[0;34m\"z is \"\u001b[0m \u001b[0;34m+\u001b[0m \u001b[0mstr\u001b[0m\u001b[0;34m(\u001b[0m\u001b[0mz\u001b[0m\u001b[0;34m)\u001b[0m\u001b[0;34m)\u001b[0m   \u001b[0;31m# this fails!!  z doesn't exist!  (neither the variable, nor its value!)\u001b[0m\u001b[0;34m\u001b[0m\u001b[0m\n\u001b[0m",
      "\u001b[0;31mNameError\u001b[0m: name 'z' is not defined"
     ]
    }
   ],
   "source": [
    "\n",
    "a = 1  # assign the value of 1 to a\n",
    "b = 2  # assign 2 to b\n",
    "\n",
    "print (\"a is \" + str(a))\n",
    "print (\"b is \" + str(b))\n",
    "\n",
    "def add_two_numbers(x, y):\n",
    "    z = x + y\n",
    "    print(\"the sum is \" + str(z))\n",
    "    print(\"I can also see \" + str(a) + \" and \" + str(b) + \" inside of this function!\")\n",
    "\n",
    "add_two_numbers(a,b)\n",
    "\n",
    "print(\"z is \" + str(z))   # this fails!!  z doesn't exist!  (neither the variable, nor its value!)\n"
   ]
  },
  {
   "cell_type": "markdown",
   "metadata": {},
   "source": [
    "\n",
    "## Pre-defined variables and CONSTANTS\n",
    "\n",
    "We wont discuss all of these (there are many!), but will discuss only a few that are particularly important ones.  Many of these variables are important only in certain situations (for example, they can represent the context of a regular expression match, such as the content to the left and right of the match).    The critical ones for us right now are:   \n",
    "\n",
    "\n",
    "| Function/CONST|  meaning  |\n",
    "| -----  | ------  | \n",
    "|  sys.stderr  |   the filehandle for printing errors  |\n",
    "|  sys.stdin   |   the filehandle for input  |\n",
    "|  sys.stdout  |   the filehandle for standard output (usually the terminal window)  |\n",
    "|  False    |    the value \"true\"  |\n",
    "|  True   |    the value \"false\"  |\n",
    "|  None   |    the value \"does not exist\"  |\n",
    "|    |   |\n",
    "|  sys.argv    |    the command-line arguments |\n",
    "  \n",
    "    "
   ]
  },
  {
   "cell_type": "code",
   "execution_count": 66,
   "metadata": {},
   "outputs": [
    {
     "name": "stdout",
     "output_type": "stream",
     "text": [
      "['/home/osboxes/anaconda3/lib/python3.6/site-packages/ipykernel_launcher.py', '-f', '/run/user/1000/jupyter/kernel-b0841cd7-40c4-41b7-bfa0-5b2bd8fd4871.json']\n"
     ]
    }
   ],
   "source": [
    "import sys\n",
    "print (sys.argv)\n"
   ]
  },
  {
   "cell_type": "markdown",
   "metadata": {},
   "source": [
    "## Ranges - a Python data-type similar to a constant\n",
    "\n",
    "A \"range\" is a sequence of numbers from \"start\" to \"stop\" with a particular \"step\" value between them.  Ranges in Python are slightly different from many other languages, because Python treats a range similar to a constant - it is \"one thing\", that has properties.\n",
    "\n",
    "ranges are specified using the <code>range()</code> command\n",
    "\n",
    "1..10    - from 1 to 10\n",
    "    \"a\"..\"z\" - from a to z\n",
    "    (1..10) === 5    - does the range of 1 to 10 include 5?  (true)\n",
    "    (1..10) === 34    - does the range of 1 to 10 include 34? (false)\n",
    "\n"
   ]
  },
  {
   "cell_type": "code",
   "execution_count": 91,
   "metadata": {},
   "outputs": [
    {
     "name": "stdout",
     "output_type": "stream",
     "text": [
      "range(1, 10)\n",
      "[1, 2, 3, 4, 5, 6, 7, 8, 9]\n",
      "6\n",
      "4\n",
      "range(2, 5)\n",
      "\n",
      "range 0 to 30 step 3\n",
      "[0, 3, 6, 9, 12, 15, 18, 21, 24, 27]\n"
     ]
    }
   ],
   "source": [
    "a = range(1,10)  # numbers from 1 to 10, with INDEX POSITIONS starting from 0\n",
    "print(a)  # see, it is a \"thing\"\n",
    "print(list(a))  # to see its content, you pass it to functions or call methods\n",
    "print(a.index(7))  # where is the number \"7\" in this range?\n",
    "print(a[3])  # what is the third element of the range?\n",
    "# you can also create ranges from ranges\n",
    "print(a[1:4])\n",
    "print(\"\")\n",
    "print(\"range 0 to 30 step 3\")\n",
    "print(list(range(0,30,3)))\n",
    "\n",
    "#why use a range?\n",
    "#bacause these two \"lists\" take the same amount of space in memory\n",
    "a = range(1,2)\n",
    "b = range(1,100000000000000000000000)\n",
    "\n",
    "# that would not be true if you said a = [1,2,3,4,5,6,7,8,9,10,......1000000000000000000]!!!!!\n",
    "\n"
   ]
  }
 ],
 "metadata": {
  "kernelspec": {
   "display_name": "Python 3",
   "language": "python",
   "name": "python3"
  },
  "language_info": {
   "codemirror_mode": {
    "name": "ipython",
    "version": 3
   },
   "file_extension": ".py",
   "mimetype": "text/x-python",
   "name": "python",
   "nbconvert_exporter": "python",
   "pygments_lexer": "ipython3",
   "version": "3.6.5"
  }
 },
 "nbformat": 4,
 "nbformat_minor": 2
}
